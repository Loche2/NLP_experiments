{
 "cells": [
  {
   "metadata": {},
   "cell_type": "markdown",
   "source": [
    "# IMDB电影评论的情感分析\n",
    "\n",
    "## 1. 实验环境"
   ],
   "id": "b2727300b8309b15"
  },
  {
   "metadata": {
    "ExecuteTime": {
     "end_time": "2024-05-05T07:04:06.545914Z",
     "start_time": "2024-05-05T07:04:05.010752Z"
    }
   },
   "cell_type": "code",
   "source": [
    "# 导入paddle及相关包\n",
    "import paddle\n",
    "import paddle.nn.functional as F\n",
    "import re\n",
    "import random\n",
    "import tarfile\n",
    "import requests\n",
    "import numpy as np\n",
    "\n",
    "paddle.seed(0)\n",
    "random.seed(0)\n",
    "np.random.seed(0)\n",
    "print(paddle.__version__)"
   ],
   "id": "initial_id",
   "outputs": [
    {
     "name": "stdout",
     "output_type": "stream",
     "text": [
      "2.6.1\n"
     ]
    }
   ],
   "execution_count": 1
  },
  {
   "metadata": {},
   "cell_type": "markdown",
   "source": [
    "## 2. 数据处理\n",
    "\n",
    "### 2.1 数据下载"
   ],
   "id": "ec07fe679f232f5c"
  },
  {
   "metadata": {
    "ExecuteTime": {
     "end_time": "2024-05-05T07:04:43.325281Z",
     "start_time": "2024-05-05T07:04:06.547922Z"
    }
   },
   "cell_type": "code",
   "source": [
    "def download():\n",
    "    # 通过python的requests类，下载存储在\n",
    "    # https://dataset.bj.bcebos.com/imdb%2FaclImdb_v1.tar.gz的文件\n",
    "    corpus_url = \"https://dataset.bj.bcebos.com/imdb%2FaclImdb_v1.tar.gz\"\n",
    "    web_request = requests.get(corpus_url)\n",
    "    corpus = web_request.content\n",
    "\n",
    "    # 将下载的文件写在当前目录的aclImdb_v1.tar.gz文件内\n",
    "    with open(\"./aclImdb_v1.tar.gz\", \"wb\") as f:\n",
    "        f.write(corpus)\n",
    "    f.close()\n",
    "\n",
    "download()"
   ],
   "id": "a4eeadbbfc8f3d51",
   "outputs": [],
   "execution_count": 2
  },
  {
   "metadata": {},
   "cell_type": "markdown",
   "source": "### 2.2 数据读取",
   "id": "8e6733a136f199f3"
  },
  {
   "metadata": {
    "ExecuteTime": {
     "end_time": "2024-05-05T07:05:19.341694Z",
     "start_time": "2024-05-05T07:05:01.240978Z"
    }
   },
   "cell_type": "code",
   "source": [
    "# 读取数据\n",
    "def load_imdb(is_training):\n",
    "\n",
    "    # 将读取的数据放到列表data_set里\n",
    "    data_set = []\n",
    "\n",
    "    # data_set中每个元素都是一个二元组：(句子，label)，其中label=0表示消极情感，label=1表示积极情感\n",
    "    for label in [\"pos\", \"neg\"]:\n",
    "        with tarfile.open(\"./aclImdb_v1.tar.gz\") as tarf:\n",
    "            path_pattern = \"aclImdb/train/\" + label + \"/.*\\.txt$\" if is_training \\\n",
    "                else \"aclImdb/test/\" + label + \"/.*\\.txt$\"\n",
    "            path_pattern = re.compile(path_pattern)\n",
    "            tf = tarf.next()\n",
    "            while tf != None:\n",
    "                if bool(path_pattern.match(tf.name)):\n",
    "                    sentence = tarf.extractfile(tf).read().decode()\n",
    "                    sentence_label = 0 if label == 'neg' else 1\n",
    "                    data_set.append((sentence, sentence_label))\n",
    "                tf = tarf.next()\n",
    "\n",
    "    return data_set\n",
    "\n",
    "train_corpus = load_imdb(True)\n",
    "test_corpus = load_imdb(False)\n",
    "\n",
    "# 打印第一条数据，查看数据格式：(句子，label)\n",
    "print(train_corpus[0])"
   ],
   "id": "22ad51104ce197e7",
   "outputs": [
    {
     "name": "stdout",
     "output_type": "stream",
     "text": [
      "('Zentropa has much in common with The Third Man, another noir-like film set among the rubble of postwar Europe. Like TTM, there is much inventive camera work. There is an innocent American who gets emotionally involved with a woman he doesn\\'t really understand, and whose naivety is all the more striking in contrast with the natives.<br /><br />But I\\'d have to say that The Third Man has a more well-crafted storyline. Zentropa is a bit disjointed in this respect. Perhaps this is intentional: it is presented as a dream/nightmare, and making it too coherent would spoil the effect. <br /><br />This movie is unrelentingly grim--\"noir\" in more than one sense; one never sees the sun shine. Grim, but intriguing, and frightening.', 1)\n"
     ]
    }
   ],
   "execution_count": 3
  },
  {
   "metadata": {},
   "cell_type": "markdown",
   "source": [
    "### 2.3 数据格式转换\n",
    "\n",
    "#### 2.3.1 分词"
   ],
   "id": "db15102350c501b1"
  },
  {
   "metadata": {
    "ExecuteTime": {
     "end_time": "2024-05-05T07:05:50.525565Z",
     "start_time": "2024-05-05T07:05:49.131681Z"
    }
   },
   "cell_type": "code",
   "source": [
    "def data_preprocess(corpus):\n",
    "    data_set = []\n",
    "    for sentence, sentence_label in corpus:\n",
    "        # 将所有的句子转换为小写，一方面可以减小词表的大小，另一方面也有助于效果提升\n",
    "        sentence = sentence.strip().lower()\n",
    "        sentence = sentence.split(\" \")\n",
    "\n",
    "        data_set.append((sentence, sentence_label))\n",
    "\n",
    "    return data_set\n",
    "\n",
    "train_set = data_preprocess(train_corpus)\n",
    "test_set = data_preprocess(test_corpus)\n",
    "\n",
    "# 打印训练集中的第一条数据\n",
    "print(train_set[0])"
   ],
   "id": "50ca047063ec15f4",
   "outputs": [
    {
     "name": "stdout",
     "output_type": "stream",
     "text": [
      "(['zentropa', 'has', 'much', 'in', 'common', 'with', 'the', 'third', 'man,', 'another', 'noir-like', 'film', 'set', 'among', 'the', 'rubble', 'of', 'postwar', 'europe.', 'like', 'ttm,', 'there', 'is', 'much', 'inventive', 'camera', 'work.', 'there', 'is', 'an', 'innocent', 'american', 'who', 'gets', 'emotionally', 'involved', 'with', 'a', 'woman', 'he', \"doesn't\", 'really', 'understand,', 'and', 'whose', 'naivety', 'is', 'all', 'the', 'more', 'striking', 'in', 'contrast', 'with', 'the', 'natives.<br', '/><br', '/>but', \"i'd\", 'have', 'to', 'say', 'that', 'the', 'third', 'man', 'has', 'a', 'more', 'well-crafted', 'storyline.', 'zentropa', 'is', 'a', 'bit', 'disjointed', 'in', 'this', 'respect.', 'perhaps', 'this', 'is', 'intentional:', 'it', 'is', 'presented', 'as', 'a', 'dream/nightmare,', 'and', 'making', 'it', 'too', 'coherent', 'would', 'spoil', 'the', 'effect.', '<br', '/><br', '/>this', 'movie', 'is', 'unrelentingly', 'grim--\"noir\"', 'in', 'more', 'than', 'one', 'sense;', 'one', 'never', 'sees', 'the', 'sun', 'shine.', 'grim,', 'but', 'intriguing,', 'and', 'frightening.'], 1)\n"
     ]
    }
   ],
   "execution_count": 4
  },
  {
   "metadata": {},
   "cell_type": "markdown",
   "source": "#### 2.3.2 组建词表",
   "id": "6cd2a265716c1445"
  },
  {
   "metadata": {
    "ExecuteTime": {
     "end_time": "2024-05-05T07:06:17.902772Z",
     "start_time": "2024-05-05T07:06:16.022857Z"
    }
   },
   "cell_type": "code",
   "source": [
    "# 构造词典，统计每个词的频率，并根据频率将每个词转换为一个整数id\n",
    "def build_dict(corpus):\n",
    "    word_freq_dict = dict()\n",
    "    for sentence, _ in corpus:\n",
    "        for word in sentence:\n",
    "            if word not in word_freq_dict:\n",
    "                word_freq_dict[word] = 0\n",
    "            word_freq_dict[word] += 1\n",
    "\n",
    "    word_freq_dict = sorted(word_freq_dict.items(), key = lambda x:x[1], reverse = True)\n",
    "\n",
    "    word2id_dict = dict()\n",
    "    word2id_freq = dict()\n",
    "\n",
    "    # 一般来说，我们把oov和pad放在词典前面，给他们一个比较小的id，这样比较方便记忆，并且易于后续扩展词表\n",
    "    word2id_dict['[oov]'] = 0\n",
    "    word2id_freq[0] = 1e10\n",
    "\n",
    "    word2id_dict['[pad]'] = 1\n",
    "    word2id_freq[1] = 1e10\n",
    "\n",
    "    for word, freq in word_freq_dict:\n",
    "        word2id_dict[word] = len(word2id_dict)\n",
    "        word2id_freq[word2id_dict[word]] = freq\n",
    "\n",
    "    return word2id_freq, word2id_dict\n",
    "\n",
    "word2id_freq, word2id_dict = build_dict(train_set)\n",
    "vocab_size = len(word2id_freq)\n",
    "print(\"there are totoally %d different words in the corpus\" % vocab_size)\n",
    "for _, (word, word_id) in zip(range(5), word2id_dict.items()):\n",
    "    print(\"word %s, its id %d, its word freq %d\" % (word, word_id, word2id_freq[word_id]))"
   ],
   "id": "50da8cd7d3304314",
   "outputs": [
    {
     "name": "stdout",
     "output_type": "stream",
     "text": [
      "there are totoally 252173 different words in the corpus\n",
      "word [oov], its id 0, its word freq 10000000000\n",
      "word [pad], its id 1, its word freq 10000000000\n",
      "word the, its id 2, its word freq 322174\n",
      "word a, its id 3, its word freq 159949\n",
      "word and, its id 4, its word freq 158556\n"
     ]
    }
   ],
   "execution_count": 5
  },
  {
   "metadata": {},
   "cell_type": "markdown",
   "source": "#### 2.3.3 映射为词典id",
   "id": "16f444fa293494ca"
  },
  {
   "metadata": {
    "ExecuteTime": {
     "end_time": "2024-05-05T07:06:37.129091Z",
     "start_time": "2024-05-05T07:06:34.371416Z"
    }
   },
   "cell_type": "code",
   "source": [
    "# 把语料转换为id序列\n",
    "def convert_corpus_to_id(corpus, word2id_dict):\n",
    "    data_set = []\n",
    "    for sentence, sentence_label in corpus:\n",
    "        sentence = [word2id_dict[word] if word in word2id_dict \\\n",
    "                        else word2id_dict['[oov]'] for word in sentence]\n",
    "        data_set.append((sentence, sentence_label))\n",
    "    return data_set\n",
    "\n",
    "train_set = convert_corpus_to_id(train_set, word2id_dict)\n",
    "test_set = convert_corpus_to_id(test_set, word2id_dict)\n",
    "\n",
    "# 打印训练数据中的第一条文本\n",
    "print(train_set[0])"
   ],
   "id": "d691fccfcaebcd04",
   "outputs": [
    {
     "name": "stdout",
     "output_type": "stream",
     "text": [
      "([22216, 41, 76, 8, 1136, 17, 2, 874, 979, 167, 69425, 24, 283, 707, 2, 19881, 5, 16628, 11952, 37, 100421, 52, 7, 76, 5733, 415, 912, 52, 7, 32, 1426, 299, 36, 195, 2299, 644, 17, 3, 282, 27, 141, 61, 7447, 4, 555, 25364, 7, 35, 2, 51, 3590, 8, 2691, 17, 2, 69426, 13, 688, 428, 26, 6, 142, 11, 2, 874, 160, 41, 3, 51, 14841, 4458, 22216, 7, 3, 218, 6262, 8, 10, 6919, 382, 10, 7, 100422, 12, 7, 1394, 15, 3, 100423, 4, 242, 12, 104, 5041, 54, 2368, 2, 4828, 109, 13, 255, 20, 7, 32280, 100424, 8, 51, 68, 30, 29571, 30, 102, 1010, 2, 4142, 18952, 11069, 18, 11636, 4, 12644], 1)\n"
     ]
    }
   ],
   "execution_count": 6
  },
  {
   "metadata": {},
   "cell_type": "markdown",
   "source": "### 2.4 组装mini-batch",
   "id": "58c668a9adb90821"
  },
  {
   "metadata": {
    "ExecuteTime": {
     "end_time": "2024-05-05T07:06:45.570265Z",
     "start_time": "2024-05-05T07:06:45.549255Z"
    }
   },
   "cell_type": "code",
   "source": [
    "def build_batch(word2id_dict, corpus, batch_size, epoch_num, max_seq_len, shuffle = True, drop_last = True):\n",
    "\n",
    "    sentence_batch = []\n",
    "    sentence_label_batch = []\n",
    "\n",
    "    for _ in range(epoch_num):\n",
    "\n",
    "        #每个epoch前都shuffle一下数据，有助于提高模型训练的效果。但是对于预测任务，不要做数据shuffle\n",
    "        if shuffle:\n",
    "            random.shuffle(corpus)\n",
    "\n",
    "        for sentence, sentence_label in corpus:\n",
    "            sentence_sample = sentence[:min(max_seq_len, len(sentence))]\n",
    "            if len(sentence_sample) < max_seq_len:\n",
    "                for _ in range(max_seq_len - len(sentence_sample)):\n",
    "                    sentence_sample.append(word2id_dict['[pad]'])\n",
    "\n",
    "            sentence_batch.append(sentence_sample)\n",
    "            sentence_label_batch.append([sentence_label])\n",
    "\n",
    "            if len(sentence_batch) == batch_size:\n",
    "                yield np.array(sentence_batch).astype(\"int64\"), np.array(sentence_label_batch).astype(\"int64\")\n",
    "                sentence_batch = []\n",
    "                sentence_label_batch = []\n",
    "    if not drop_last and len(sentence_batch) > 0:\n",
    "        yield np.array(sentence_batch).astype(\"int64\"), np.array(sentence_label_batch).astype(\"int64\")\n",
    "\n",
    "batch_iters = build_batch(word2id_dict, train_set, batch_size=3, epoch_num=3, max_seq_len=30)\n",
    "# 答应第一个batch，查看数据shape\n",
    "batch = next(batch_iters)\n",
    "print(\"batch type: \", type(batch))\n",
    "print(\"text shape: \", batch[0].shape)\n",
    "print(\"label shape: \", batch[1].shape)"
   ],
   "id": "f4f638e7efe76e75",
   "outputs": [
    {
     "name": "stdout",
     "output_type": "stream",
     "text": [
      "batch type:  <class 'tuple'>\n",
      "text shape:  (3, 30)\n",
      "label shape:  (3, 1)\n"
     ]
    }
   ],
   "execution_count": 7
  },
  {
   "metadata": {},
   "cell_type": "markdown",
   "source": "## 3. 模型构建",
   "id": "9dc700389c90ef7e"
  },
  {
   "metadata": {
    "ExecuteTime": {
     "end_time": "2024-05-05T07:48:48.930630Z",
     "start_time": "2024-05-05T07:48:48.920519Z"
    }
   },
   "cell_type": "code",
   "source": [
    "# 定义一个用于情感分类的网络实例，SentimentClassifier\n",
    "class SentimentClassifier(paddle.nn.Layer):\n",
    "\n",
    "    def __init__(self, hidden_size, vocab_size, embedding_size, class_num=2, num_steps=128, num_layers=1, init_scale=0.1, dropout_rate=None):\n",
    "\n",
    "        # 参数含义如下：\n",
    "        # 1.hidden_size，表示embedding-size，hidden和cell向量的维度\n",
    "        # 2.vocab_size，模型可以考虑的词表大小\n",
    "        # 3.embedding_size，表示词向量的维度\n",
    "        # 4.class_num，情感类型个数，可以是2分类，也可以是多分类\n",
    "        # 5.num_steps，表示这个情感分析模型最大可以考虑的句子长度\n",
    "        # 6.num_layers，表示网络的层数\n",
    "        # 7.dropout_rate，表示使用dropout过程中失活的神经元比例\n",
    "        # 8.init_scale，表示网络内部的参数的初始化范围,长短时记忆网络内部用了很多Tanh，Sigmoid等激活函数，\\\n",
    "        # 这些函数对数值精度非常敏感，因此我们一般只使用比较小的初始化范围，以保证效果\n",
    "        super(SentimentClassifier, self).__init__()\n",
    "        self.hidden_size = hidden_size\n",
    "        self.vocab_size = vocab_size\n",
    "        self.embedding_size = embedding_size\n",
    "        self.class_num = class_num\n",
    "        self.num_steps = num_steps\n",
    "        self.num_layers = num_layers\n",
    "        self.dropout_rate = dropout_rate\n",
    "        self.init_scale = init_scale\n",
    "\n",
    "        # 声明一个LSTM模型，用来把每个句子抽象成向量\n",
    "        self.simple_lstm_rnn = paddle.nn.LSTM(input_size=hidden_size, hidden_size=hidden_size, num_layers=num_layers)\n",
    "\n",
    "        # 声明一个embedding层，用来把句子中的每个词转换为向量\n",
    "        self.embedding = paddle.nn.Embedding(num_embeddings=vocab_size, embedding_dim=embedding_size, sparse=False,\n",
    "                                             weight_attr=paddle.ParamAttr(initializer=paddle.nn.initializer.Uniform(low=-init_scale, high=init_scale)))\n",
    "\n",
    "        # 声明使用上述语义向量映射到具体情感类别时所需要使用的线性层\n",
    "        self.cls_fc = paddle.nn.Linear(in_features=self.hidden_size, out_features=self.class_num,\n",
    "                                       weight_attr=None, bias_attr=None)\n",
    "\n",
    "        # 一般在获取单词的embedding后，会使用dropout层，防止过拟合，提升模型泛化能力\n",
    "        self.dropout_layer = paddle.nn.Dropout(p=self.dropout_rate, mode='upscale_in_train')\n",
    "\n",
    "    # forwad函数即为模型前向计算的函数，它有两个输入，分别为：\n",
    "    # input为输入的训练文本，其shape为[batch_size, max_seq_len]\n",
    "    # label训练文本对应的情感标签，其shape维[batch_size, 1]\n",
    "    def forward(self, inputs):\n",
    "        # 获取输入数据的batch_size\n",
    "        batch_size = inputs.shape[0]\n",
    "\n",
    "        # 本实验默认使用1层的LSTM，首先我们需要定义LSTM的初始hidden和cell，这里我们使用0来初始化这个序列的记忆\n",
    "        init_hidden_data = np.zeros(\n",
    "            (self.num_layers, batch_size, self.hidden_size), dtype='float32')\n",
    "        init_cell_data = np.zeros(\n",
    "            (self.num_layers, batch_size, self.hidden_size), dtype='float32')\n",
    "\n",
    "        # 将这些初始记忆转换为飞桨可计算的向量，并且设置stop_gradient=True，避免这些向量被更新，从而影响训练效果\n",
    "        init_hidden = paddle.to_tensor(init_hidden_data)\n",
    "        init_hidden.stop_gradient = True\n",
    "        init_cell = paddle.to_tensor(init_cell_data)\n",
    "        init_cell.stop_gradient = True\n",
    "\n",
    "        # 对应以上第2步，将输入的句子的mini-batch转换为词向量表示，转换后输入数据shape为[batch_size, max_seq_len, embedding_size]\n",
    "        x_emb = self.embedding(inputs)\n",
    "        x_emb = paddle.reshape(x_emb, shape=[-1, self.num_steps, self.embedding_size])\n",
    "        # 在获取的词向量后添加dropout层\n",
    "        if self.dropout_rate is not None and self.dropout_rate > 0.0:\n",
    "            x_emb = self.dropout_layer(x_emb)\n",
    "\n",
    "        # 对应以上第3步，使用LSTM网络，把每个句子转换为语义向量\n",
    "        # 返回的last_hidden即为最后一个时间步的输出，其shape为[self.num_layers, batch_size, hidden_size]\n",
    "        rnn_out, (last_hidden, last_cell) = self.simple_lstm_rnn(x_emb, (init_hidden, init_cell))\n",
    "        # 提取最后一层隐状态作为文本的语义向量，其shape为[batch_size, hidden_size]\n",
    "        last_hidden = paddle.reshape(last_hidden[-1], shape=[-1, self.hidden_size])\n",
    "\n",
    "        # 对应以上第4步，将每个句子的向量表示映射到具体的情感类别上, logits的维度为[batch_size, 2]\n",
    "        logits = self.cls_fc(last_hidden)\n",
    "\n",
    "        return logits"
   ],
   "id": "b08282506521e3b4",
   "outputs": [],
   "execution_count": 40
  },
  {
   "metadata": {},
   "cell_type": "markdown",
   "source": "## 4. 训练配置",
   "id": "ee4933c238194e24"
  },
  {
   "metadata": {
    "ExecuteTime": {
     "end_time": "2024-05-05T08:26:06.700052Z",
     "start_time": "2024-05-05T08:26:06.674178Z"
    }
   },
   "cell_type": "code",
   "source": [
    "# 定义训练参数\n",
    "epoch_num = 5\n",
    "batch_size = 128\n",
    "\n",
    "learning_rate = 0.005\n",
    "dropout_rate = 0.2\n",
    "num_layers = 1\n",
    "hidden_size = 128\n",
    "embedding_size = 128\n",
    "max_seq_len = 128\n",
    "vocab_size = len(word2id_freq)\n",
    "\n",
    "# 检测是否可以使用GPU，如果可以优先使用GPU\n",
    "use_gpu = True if paddle.get_device().startswith(\"gpu\") else False\n",
    "if use_gpu:\n",
    "    paddle.set_device('gpu:0')\n",
    "\n",
    "# 实例化模型\n",
    "sentiment_classifier = SentimentClassifier(hidden_size, vocab_size, embedding_size,  num_steps=max_seq_len, num_layers=num_layers, dropout_rate=dropout_rate)\n",
    "\n",
    "# 指定优化策略，更新模型参数\n",
    "optimizer = paddle.optimizer.Adam(learning_rate=learning_rate, beta1=0.9, beta2=0.999, parameters= sentiment_classifier.parameters()) "
   ],
   "id": "76b39d9437d7ea13",
   "outputs": [],
   "execution_count": 73
  },
  {
   "metadata": {},
   "cell_type": "markdown",
   "source": [
    "## 5. 模型训练\n",
    "\n",
    "### 5.1 训练过程"
   ],
   "id": "402c188380b9bb25"
  },
  {
   "metadata": {
    "ExecuteTime": {
     "end_time": "2024-05-05T08:27:39.458429Z",
     "start_time": "2024-05-05T08:26:06.707262Z"
    }
   },
   "cell_type": "code",
   "source": [
    "# 记录训练过程中的损失变化情况，可用于后续画图查看训练情况\n",
    "losses = []\n",
    "steps = []\n",
    "\n",
    "def train(model):\n",
    "    # 开启模型训练模式\n",
    "    model.train()\n",
    "\n",
    "    # 建立训练数据生成器，每次迭代生成一个batch，每个batch包含训练文本和文本对应的情感标签\n",
    "    train_generator = build_batch(word2id_dict, train_set, batch_size, epoch_num, max_seq_len)\n",
    "\n",
    "    for step, (sentences, labels) in enumerate(train_generator):\n",
    "        # 获取数据，并将张量转换为Tensor类型\n",
    "        sentences = paddle.to_tensor(sentences)\n",
    "        labels = paddle.to_tensor(labels)\n",
    "\n",
    "        # 前向计算，将数据feed进模型，并得到预测的情感标签和损失\n",
    "        logits = model(sentences)\n",
    "\n",
    "        # 计算损失\n",
    "        loss = F.cross_entropy(input=logits, label=labels, soft_label=False)\n",
    "        loss = paddle.mean(loss)\n",
    "\n",
    "        # 后向传播\n",
    "        loss.backward()\n",
    "        # 更新参数\n",
    "        optimizer.step()\n",
    "        # 清除梯度\n",
    "        optimizer.clear_grad()\n",
    "\n",
    "        if step % 100 == 0:\n",
    "            # 记录当前步骤的loss变化情况\n",
    "            losses.append(loss.numpy())\n",
    "            steps.append(step)\n",
    "            # 打印当前loss数值\n",
    "            print(\"step %d, loss %.3f\" % (step, loss.numpy()))\n",
    "\n",
    "train(sentiment_classifier)"
   ],
   "id": "ecf9b894d1a102b8",
   "outputs": [
    {
     "name": "stdout",
     "output_type": "stream",
     "text": [
      "step 0, loss 0.693\n",
      "step 100, loss 0.701\n",
      "step 200, loss 0.649\n",
      "step 300, loss 0.446\n",
      "step 400, loss 0.062\n",
      "step 500, loss 0.094\n",
      "step 600, loss 0.057\n",
      "step 700, loss 0.006\n",
      "step 800, loss 0.001\n",
      "step 900, loss 0.000\n"
     ]
    }
   ],
   "execution_count": 74
  },
  {
   "metadata": {},
   "cell_type": "markdown",
   "source": "### 5.2 训练可视化",
   "id": "7a967d57dcfb7624"
  },
  {
   "metadata": {
    "ExecuteTime": {
     "end_time": "2024-05-05T08:27:39.631780Z",
     "start_time": "2024-05-05T08:27:39.458429Z"
    }
   },
   "cell_type": "code",
   "source": [
    "import matplotlib.pyplot as plt\n",
    "\n",
    "# 开始画图，横轴是训练step，纵轴是损失\n",
    "plt.plot(steps, losses, \"-o\")\n",
    "plt.xlabel(\"step\")\n",
    "plt.ylabel(\"loss\")\n",
    "plt.savefig(\"./loss.png\")"
   ],
   "id": "aaf944cab1f0c995",
   "outputs": [
    {
     "data": {
      "text/plain": [
       "<Figure size 640x480 with 1 Axes>"
      ],
      "image/png": "[encoded data removed]"
     },
     "metadata": {},
     "output_type": "display_data"
    }
   ],
   "execution_count": 75
  },
  {
   "metadata": {},
   "cell_type": "markdown",
   "source": "## 6. 模型保存",
   "id": "f1e86b8da47aa011"
  },
  {
   "metadata": {
    "ExecuteTime": {
     "end_time": "2024-05-05T08:27:40.517786Z",
     "start_time": "2024-05-05T08:27:39.631780Z"
    }
   },
   "cell_type": "code",
   "source": [
    "model_name = \"sentiment_classifier\"\n",
    "\n",
    "# 保存训练好的模型参数\n",
    "paddle.save(sentiment_classifier.state_dict(), \"{}.pdparams\".format(model_name))\n",
    "# 保存优化器参数，方便后续模型继续训练\n",
    "paddle.save(optimizer.state_dict(), \"{}.pdopt\".format(model_name))"
   ],
   "id": "4b58e1d642db3c3",
   "outputs": [],
   "execution_count": 76
  },
  {
   "metadata": {},
   "cell_type": "markdown",
   "source": "## 7. 模型评估",
   "id": "e274aca081f50ef6"
  },
  {
   "metadata": {
    "ExecuteTime": {
     "end_time": "2024-05-05T09:49:44.996346Z",
     "start_time": "2024-05-05T09:49:34.890230Z"
    }
   },
   "cell_type": "code",
   "source": [
    "import seaborn as sns\n",
    "\n",
    "\n",
    "def evaluate(model):\n",
    "    # 开启模型测试模式，在该模式下，网络不会进行梯度更新\n",
    "    model.eval()\n",
    "\n",
    "    # 定义以上几个统计指标\n",
    "    tp, tn, fp, fn = 0, 0, 0, 0\n",
    "\n",
    "    # 构造测试数据生成器\n",
    "    test_generator = build_batch(word2id_dict, test_set, batch_size, 1, max_seq_len)\n",
    "\n",
    "    for sentences, labels in test_generator:\n",
    "        # 将张量转换为Tensor类型\n",
    "        sentences = paddle.to_tensor(sentences)\n",
    "        labels = paddle.to_tensor(labels)\n",
    "        # 获取模型对当前batch的输出结果\n",
    "        logits = model(sentences)\n",
    "\n",
    "        # 使用softmax进行归一化\n",
    "        probs = F.softmax(logits)\n",
    "\n",
    "        # 把输出结果转换为numpy array数组，比较预测结果和对应label之间的关系，并更新tp，tn，fp和fn\n",
    "        probs = probs.numpy()\n",
    "        for i in range(len(probs)):\n",
    "            # 当样本是的真实标签是正例\n",
    "            if labels[i][0] == 1:\n",
    "                # 模型预测是正例\n",
    "                if probs[i][1] > probs[i][0]:\n",
    "                    tp += 1\n",
    "                # 模型预测是负例\n",
    "                else:\n",
    "                    fn += 1\n",
    "            # 当样本的真实标签是负例\n",
    "            else:\n",
    "                # 模型预测是正例\n",
    "                if probs[i][1] > probs[i][0]:\n",
    "                    fp += 1\n",
    "                # 模型预测是负例\n",
    "                else:\n",
    "                    tn += 1\n",
    "\n",
    "    # 整体准确率\n",
    "    accuracy = (tp + tn) / (tp + tn + fp + fn)\n",
    "\n",
    "    # 输出最终评估的模型效果\n",
    "    print(\"TP: {}\\nFP: {}\\nTN: {}\\nFN: {}\\n\".format(tp, fp, tn, fn))\n",
    "    print(\"Accuracy: %.4f\" % accuracy)\n",
    "\n",
    "    # 绘制混淆矩阵热力图\n",
    "    confusion_matrix = np.array([[tn, fp], [fn, tp]])\n",
    "    sns.heatmap(confusion_matrix, annot=True, fmt=\"d\", cmap=\"Blues\", xticklabels=['Negative', 'Positive'], yticklabels=['Negative', 'Positive'])\n",
    "    plt.xlabel('Predicted labels')\n",
    "    plt.ylabel('True labels')\n",
    "    plt.title('Confusion Matrix')\n",
    "    plt.show()\n",
    "\n",
    "# 加载训练好的模型进行预测，重新实例化一个模型，然后将训练好的模型参数加载到新模型里面\n",
    "saved_state = paddle.load(\"./sentiment_classifier.pdparams\")\n",
    "sentiment_classifier = SentimentClassifier(hidden_size, vocab_size, embedding_size,  num_steps=max_seq_len, num_layers=num_layers, dropout_rate=dropout_rate)\n",
    "sentiment_classifier.load_dict(saved_state)\n",
    "\n",
    "# 评估模型\n",
    "evaluate(sentiment_classifier)"
   ],
   "id": "6b22fe1d0800ec94",
   "outputs": [
    {
     "name": "stdout",
     "output_type": "stream",
     "text": [
      "TP: 8596\n",
      "FP: 1928\n",
      "TN: 10555\n",
      "FN: 3881\n",
      "\n",
      "Accuracy: 0.7673\n"
     ]
    },
    {
     "data": {
      "text/plain": [
       "<Figure size 640x480 with 2 Axes>"
      ],
      "image/png": "[encoded data removed]"
     },
     "metadata": {},
     "output_type": "display_data"
    }
   ],
   "execution_count": 85
  },
  {
   "metadata": {},
   "cell_type": "markdown",
   "source": "## 8. 模型推理",
   "id": "cdf4749752e08942"
  },
  {
   "metadata": {
    "ExecuteTime": {
     "end_time": "2024-05-05T09:53:09.003637Z",
     "start_time": "2024-05-05T09:53:08.986715Z"
    }
   },
   "cell_type": "code",
   "source": [
    "# 模型预测代码\n",
    "def infer(model, text):\n",
    "    model.eval()\n",
    "    # 数据处理\n",
    "    sentence = text.split(\" \")\n",
    "    tokens = [word2id_dict[word] if word in word2id_dict \\\n",
    "                  else word2id_dict['[oov]'] for word in sentence]\n",
    "\n",
    "    # 截断或者填充序列到\n",
    "    tokens = tokens[:max_seq_len]\n",
    "    tokens = tokens+[word2id_dict['[pad]']]*(max_seq_len-len(tokens))\n",
    "\n",
    "    # 构造输入模型的数据\n",
    "    tokens = paddle.to_tensor(tokens, dtype=\"int64\").unsqueeze(0)\n",
    "\n",
    "    # 计算发射分数\n",
    "    logits = model(tokens)\n",
    "    probs = F.softmax(logits)\n",
    "\n",
    "    # # 解析出分数最大的标签\n",
    "    id2label={0:\"消极情绪\", 1:\"积极情绪\"}\n",
    "    max_label_id = paddle.argmax(logits, axis=1).numpy()[0]\n",
    "    pred_label = id2label[max_label_id]\n",
    "\n",
    "    print(\"Label: \", pred_label)\n",
    "\n",
    "title = \"this movie is so wonderful. I watched it three times\"\n",
    "infer(sentiment_classifier, title)"
   ],
   "id": "e4b010b9426fa0a9",
   "outputs": [
    {
     "name": "stdout",
     "output_type": "stream",
     "text": [
      "Label:  积极情绪\n"
     ]
    }
   ],
   "execution_count": 87
  }
 ],
 "metadata": {
  "kernelspec": {
   "display_name": "Python 3",
   "language": "python",
   "name": "python3"
  },
  "language_info": {
   "codemirror_mode": {
    "name": "ipython",
    "version": 2
   },
   "file_extension": ".py",
   "mimetype": "text/x-python",
   "name": "python",
   "nbconvert_exporter": "python",
   "pygments_lexer": "ipython2",
   "version": "2.7.6"
  }
 },
 "nbformat": 4,
 "nbformat_minor": 5
}
